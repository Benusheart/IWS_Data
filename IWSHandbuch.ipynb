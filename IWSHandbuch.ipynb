{
 "cells": [
  {
   "cell_type": "markdown",
   "source": [
    "Datentypen\n",
    "\n",
    "Datentypen müssen nicht explizit angegeben werden, man kann jedoch casten.\n",
    "um den Typ einer Variablen herauszufinden, arbeitet man mit Type\n"
   ],
   "metadata": {
    "collapsed": false
   }
  },
  {
   "cell_type": "code",
   "execution_count": 3,
   "outputs": [
    {
     "name": "stdout",
     "output_type": "stream",
     "text": [
      "<class 'int'>\n"
     ]
    }
   ],
   "source": [
    "a=40\n",
    "\n",
    "print(type(a))"
   ],
   "metadata": {
    "collapsed": false,
    "pycharm": {
     "name": "#%%\n"
    }
   }
  },
  {
   "cell_type": "markdown",
   "source": [
    "a wird zum String gecastet"
   ],
   "metadata": {
    "collapsed": false,
    "pycharm": {
     "name": "#%% md\n"
    }
   }
  },
  {
   "cell_type": "code",
   "execution_count": 4,
   "outputs": [
    {
     "name": "stdout",
     "output_type": "stream",
     "text": [
      "<class 'str'>\n"
     ]
    }
   ],
   "source": [
    "Stringa=str(a)\n",
    "print(type(Stringa))\n",
    "\n"
   ],
   "metadata": {
    "collapsed": false,
    "pycharm": {
     "name": "#%%\n"
    }
   }
  },
  {
   "cell_type": "markdown",
   "source": [
    "Es existiert kein Null sondern None\n",
    "\n"
   ],
   "metadata": {
    "collapsed": false
   }
  },
  {
   "cell_type": "code",
   "execution_count": null,
   "outputs": [],
   "source": [
    "b=None\n"
   ],
   "metadata": {
    "collapsed": false,
    "pycharm": {
     "name": "#%%\n"
    }
   }
  },
  {
   "cell_type": "markdown",
   "source": [
    "Einrückungen sind wichtig, damit gibt man an, was wie zusammengehört.\n",
    "Es existieren verschiedene Schleifen: For und While\n",
    "Des Weiteren gibt es if/else und switch/case"
   ],
   "metadata": {
    "collapsed": false
   }
  },
  {
   "cell_type": "code",
   "execution_count": null,
   "outputs": [],
   "source": [
    "while a<=50:\n",
    "    if a==41:\n",
    "        print(b)\n",
    "        b=a-1\n",
    "    else:\n",
    "        print(\"a ist ungleich 41\")\n",
    "    a=a+1"
   ],
   "metadata": {
    "collapsed": false,
    "pycharm": {
     "name": "#%%\n"
    }
   }
  },
  {
   "cell_type": "markdown",
   "source": [
    "Klassen existieren ebenfalls in Python"
   ],
   "metadata": {
    "collapsed": false
   }
  },
  {
   "cell_type": "code",
   "execution_count": null,
   "outputs": [],
   "source": [
    "class Tier:\n",
    "\n",
    "    #Das ist wie ein Konstruktor\n",
    "    def __init__(self, beine, art):\n",
    "        self.beine = beine\n",
    "        self.art = art\n",
    "    # so könnte eine Methode definiert werden\n",
    "    def laufen(art,beine):\n",
    "        print(\"Ich laufe mit \" +str( beine )+\" Beinen\")\n",
    "        if beine==4 or 2 or 6 or 8:\n",
    "            print(\"Es handelt sich um folgende Tierart \"+art)\n",
    "        else:\n",
    "            print(\"Bitte andere Beinzahl wählen\")"
   ],
   "metadata": {
    "collapsed": false,
    "pycharm": {
     "name": "#%%\n"
    }
   }
  },
  {
   "cell_type": "markdown",
   "source": [
    "Vererbung existiert ebenso\n",
    "\n"
   ],
   "metadata": {
    "collapsed": false
   }
  },
  {
   "cell_type": "code",
   "execution_count": null,
   "outputs": [],
   "source": [
    "class Hund(Tier):\n",
    "    art=\"Hund\"\n",
    "    beine=4\n",
    "    def __init__(self, beine, art):\n",
    "        self.beine = beine\n",
    "        self.art = art\n",
    "class Spinne(Tier):\n",
    "    art=\"Spinne\"\n",
    "    beine=8\n",
    "    def __init__(self, beine, art):\n",
    "        self.beine = beine\n",
    "        self.art = art\n",
    "\n",
    "\n",
    "print(Tier.laufen(Hund.art, Hund.beine))\n",
    "print(Tier.laufen(Spinne.art, Spinne.beine))"
   ],
   "metadata": {
    "collapsed": false,
    "pycharm": {
     "name": "#%%\n"
    }
   }
  },
  {
   "cell_type": "markdown",
   "source": [
    "Methode einer Klasse wird mit . aufgerufen, genauso Eigenschaften.\n",
    "Klassen aus anderen Projekten kann man mit import einfügen.\n",
    "\n",
    "Für Numpy empfehlen wir folgendes CheatSheet:\n",
    "https://s3.amazonaws.com/assets.datacamp.com/blog_assets/Numpy_Python_Cheat_Sheet.pdf\n",
    "\n",
    "\n",
    "Listen erstellen"
   ],
   "metadata": {
    "collapsed": false
   }
  },
  {
   "cell_type": "code",
   "execution_count": null,
   "outputs": [],
   "source": [
    "leereListe=[]\n",
    "testliste=[1,2,3,4,5]"
   ],
   "metadata": {
    "collapsed": false,
    "pycharm": {
     "name": "#%%\n"
    }
   }
  },
  {
   "cell_type": "markdown",
   "source": [
    "durch Listen durchgehen"
   ],
   "metadata": {
    "collapsed": false
   }
  },
  {
   "cell_type": "code",
   "execution_count": null,
   "outputs": [],
   "source": [
    "\n",
    "for element in testliste:\n",
    "    print(element)"
   ],
   "metadata": {
    "collapsed": false,
    "pycharm": {
     "name": "#%%\n"
    }
   }
  },
  {
   "cell_type": "markdown",
   "source": [
    "Listen kann man indizieren\n"
   ],
   "metadata": {
    "collapsed": false
   }
  },
  {
   "cell_type": "code",
   "execution_count": null,
   "outputs": [],
   "source": [
    "testliste[:] #ganze Liste slicen\n",
    "print(testliste[:])\n",
    "print(testliste[:2]) #ersten zwei Positionen ausgeben"
   ],
   "metadata": {
    "collapsed": false,
    "pycharm": {
     "name": "#%%\n"
    }
   }
  },
  {
   "cell_type": "markdown",
   "source": [
    "Die Zählung geht bei 0 los, die rechte Zahl ist exklusiv.\n",
    "Die linke Zahl ist inklusiv."
   ],
   "metadata": {
    "collapsed": false
   }
  },
  {
   "cell_type": "code",
   "execution_count": null,
   "outputs": [],
   "source": [
    "print(testliste[1:3])\n"
   ],
   "metadata": {
    "collapsed": false,
    "pycharm": {
     "name": "#%%\n"
    }
   }
  },
  {
   "cell_type": "markdown",
   "source": [
    "Negatives slicen funktioniert ebenfalls"
   ],
   "metadata": {
    "collapsed": false
   }
  },
  {
   "cell_type": "code",
   "execution_count": null,
   "outputs": [],
   "source": [
    "print(testliste[-1]) #gibt letzte Position in der Liste wieder\n",
    "print(len(testliste)) #Länge der Liste ausgeben\n"
   ],
   "metadata": {
    "collapsed": false,
    "pycharm": {
     "name": "#%%\n"
    }
   }
  }
 ],
 "metadata": {
  "kernelspec": {
   "display_name": "Python 3",
   "language": "python",
   "name": "python3"
  },
  "language_info": {
   "codemirror_mode": {
    "name": "ipython",
    "version": 2
   },
   "file_extension": ".py",
   "mimetype": "text/x-python",
   "name": "python",
   "nbconvert_exporter": "python",
   "pygments_lexer": "ipython2",
   "version": "2.7.6"
  }
 },
 "nbformat": 4,
 "nbformat_minor": 0
}